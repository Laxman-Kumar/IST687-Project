{
 "cells": [
  {
   "cell_type": "code",
   "execution_count": 1,
   "metadata": {},
   "outputs": [],
   "source": [
    "#install.packages('caTools') \n",
    "#install.packages('e1071') \n",
    "#install.packages('lubridate')\n",
    "#install.packages(\"kernlab\")\n",
    "#library(lubridate)\n",
    "#library(kernlab)\n",
    "#library(caTools)\n",
    "#library(tidyverse)\n",
    "#library(caret)\n",
    "#library(e1071)"
   ]
  },
  {
   "cell_type": "code",
   "execution_count": 142,
   "metadata": {},
   "outputs": [],
   "source": [
    "#importing cleaned dataset and hash data\n",
    "df <- readRDS('CleanedData.Rda')\n",
    "partnerNameHash <- readRDS(\"PartnerName.Rda\")\n",
    "stateNameHash <- readRDS(\"StateName.Rda\")"
   ]
  },
  {
   "cell_type": "code",
   "execution_count": 143,
   "metadata": {},
   "outputs": [],
   "source": [
    "#making age group partitions\n",
    "ageGroup <- c(\"0-18\",\"19-36\",\"37-54\",\"55 and above\")\n",
    "df$AgeGroup <- cut(df$Age, breaks = c(0,18,36,54, Inf), labels = ageGroup, right = FALSE)\n",
    "\n",
    "#making likelihood score partitions\n",
    "likeGroup <- c(\"Detractors\",\"Passives\",\"Promoters\")\n",
    "df$LikhihoodGroup <- cut(df$LikelihoodRecommendScore, breaks = c(0,7,9, Inf), labels = likeGroup, right = FALSE)\n",
    "\n",
    "#removing rows with Price Sensitivity =4\n",
    "df <- df[-which(df$PriceSensitivity==4),] \n",
    "\n",
    "#df <- df[-which(df$OriginState==\"VT\"),]\n",
    "#df <- df[-which(df$OriginState==\"MS\"),]\n",
    "#df <- df[-which(df$OriginState==\"NJ\"),]\n",
    "#df <- df[-which(df$DestinationState==\"KY\"),]\n",
    "#df <- df[-which(df$DestinationState==\"MS\"),]\n",
    "#df <- df[-which(df$DestinationState==\"NJ\"),]\n",
    "\n"
   ]
  },
  {
   "cell_type": "code",
   "execution_count": 136,
   "metadata": {},
   "outputs": [
    {
     "data": {
      "text/plain": [
       "\n",
       "  AK   AL   AR   AZ   CA   CO   CT   DC   FL   GA   HI   IA   ID   IL   IN   KS \n",
       "  74   59   42  437 1231  559   45  289  723  783   42   28   19  742   87   19 \n",
       "  LA   MA   MD   ME   MI   MN   MO   MS   MT   NC   ND   NE   NH   NJ   NM   NV \n",
       " 134  232  175    6  254  249  209    2   40  251   25   45   17    3   55  345 \n",
       "  NY   OH   OK   OR   PA   PR   RI   SC   SD   TN   TX   UT   VA   VT   WA   WI \n",
       " 538  220   90  122  242   66   27   44   17   62  907  270   38    5  240  129 \n",
       "  WY \n",
       "  31 "
      ]
     },
     "metadata": {},
     "output_type": "display_data"
    }
   ],
   "source": [
    "table(df$OriginState)"
   ]
  },
  {
   "cell_type": "code",
   "execution_count": null,
   "metadata": {},
   "outputs": [],
   "source": []
  },
  {
   "cell_type": "code",
   "execution_count": 137,
   "metadata": {},
   "outputs": [
    {
     "data": {
      "text/html": [
       "<ol class=list-inline>\n",
       "\t<li>'DestinationCity'</li>\n",
       "\t<li>'OriginCity'</li>\n",
       "\t<li>'AirlineStatus'</li>\n",
       "\t<li>'Age'</li>\n",
       "\t<li>'Gender'</li>\n",
       "\t<li>'PriceSensitivity'</li>\n",
       "\t<li>'YearOfFirstFlight'</li>\n",
       "\t<li>'FLightsPerYear'</li>\n",
       "\t<li>'Loyalty'</li>\n",
       "\t<li>'TypeOfTravel'</li>\n",
       "\t<li>'TotalFreqFlyAccount'</li>\n",
       "\t<li>'ShoppingAmount'</li>\n",
       "\t<li>'FoodExpenses'</li>\n",
       "\t<li>'Class'</li>\n",
       "\t<li>'FlightDate'</li>\n",
       "\t<li>'PartnerCode'</li>\n",
       "\t<li>'ScheduleDepHour'</li>\n",
       "\t<li>'DepartureDelayInMin'</li>\n",
       "\t<li>'ArrivalDelayInMin'</li>\n",
       "\t<li>'FlightCancelledByUser'</li>\n",
       "\t<li>'FlightDuration'</li>\n",
       "\t<li>'Distance'</li>\n",
       "\t<li>'LikelihoodRecommendScore'</li>\n",
       "\t<li>'OriginLong'</li>\n",
       "\t<li>'OriginLat'</li>\n",
       "\t<li>'DestLong'</li>\n",
       "\t<li>'DestLat'</li>\n",
       "\t<li>'DestinationState'</li>\n",
       "\t<li>'OriginState'</li>\n",
       "\t<li>'AgeGroup'</li>\n",
       "\t<li>'LikhihoodGroup'</li>\n",
       "</ol>\n"
      ],
      "text/latex": [
       "\\begin{enumerate*}\n",
       "\\item 'DestinationCity'\n",
       "\\item 'OriginCity'\n",
       "\\item 'AirlineStatus'\n",
       "\\item 'Age'\n",
       "\\item 'Gender'\n",
       "\\item 'PriceSensitivity'\n",
       "\\item 'YearOfFirstFlight'\n",
       "\\item 'FLightsPerYear'\n",
       "\\item 'Loyalty'\n",
       "\\item 'TypeOfTravel'\n",
       "\\item 'TotalFreqFlyAccount'\n",
       "\\item 'ShoppingAmount'\n",
       "\\item 'FoodExpenses'\n",
       "\\item 'Class'\n",
       "\\item 'FlightDate'\n",
       "\\item 'PartnerCode'\n",
       "\\item 'ScheduleDepHour'\n",
       "\\item 'DepartureDelayInMin'\n",
       "\\item 'ArrivalDelayInMin'\n",
       "\\item 'FlightCancelledByUser'\n",
       "\\item 'FlightDuration'\n",
       "\\item 'Distance'\n",
       "\\item 'LikelihoodRecommendScore'\n",
       "\\item 'OriginLong'\n",
       "\\item 'OriginLat'\n",
       "\\item 'DestLong'\n",
       "\\item 'DestLat'\n",
       "\\item 'DestinationState'\n",
       "\\item 'OriginState'\n",
       "\\item 'AgeGroup'\n",
       "\\item 'LikhihoodGroup'\n",
       "\\end{enumerate*}\n"
      ],
      "text/markdown": [
       "1. 'DestinationCity'\n",
       "2. 'OriginCity'\n",
       "3. 'AirlineStatus'\n",
       "4. 'Age'\n",
       "5. 'Gender'\n",
       "6. 'PriceSensitivity'\n",
       "7. 'YearOfFirstFlight'\n",
       "8. 'FLightsPerYear'\n",
       "9. 'Loyalty'\n",
       "10. 'TypeOfTravel'\n",
       "11. 'TotalFreqFlyAccount'\n",
       "12. 'ShoppingAmount'\n",
       "13. 'FoodExpenses'\n",
       "14. 'Class'\n",
       "15. 'FlightDate'\n",
       "16. 'PartnerCode'\n",
       "17. 'ScheduleDepHour'\n",
       "18. 'DepartureDelayInMin'\n",
       "19. 'ArrivalDelayInMin'\n",
       "20. 'FlightCancelledByUser'\n",
       "21. 'FlightDuration'\n",
       "22. 'Distance'\n",
       "23. 'LikelihoodRecommendScore'\n",
       "24. 'OriginLong'\n",
       "25. 'OriginLat'\n",
       "26. 'DestLong'\n",
       "27. 'DestLat'\n",
       "28. 'DestinationState'\n",
       "29. 'OriginState'\n",
       "30. 'AgeGroup'\n",
       "31. 'LikhihoodGroup'\n",
       "\n",
       "\n"
      ],
      "text/plain": [
       " [1] \"DestinationCity\"          \"OriginCity\"              \n",
       " [3] \"AirlineStatus\"            \"Age\"                     \n",
       " [5] \"Gender\"                   \"PriceSensitivity\"        \n",
       " [7] \"YearOfFirstFlight\"        \"FLightsPerYear\"          \n",
       " [9] \"Loyalty\"                  \"TypeOfTravel\"            \n",
       "[11] \"TotalFreqFlyAccount\"      \"ShoppingAmount\"          \n",
       "[13] \"FoodExpenses\"             \"Class\"                   \n",
       "[15] \"FlightDate\"               \"PartnerCode\"             \n",
       "[17] \"ScheduleDepHour\"          \"DepartureDelayInMin\"     \n",
       "[19] \"ArrivalDelayInMin\"        \"FlightCancelledByUser\"   \n",
       "[21] \"FlightDuration\"           \"Distance\"                \n",
       "[23] \"LikelihoodRecommendScore\" \"OriginLong\"              \n",
       "[25] \"OriginLat\"                \"DestLong\"                \n",
       "[27] \"DestLat\"                  \"DestinationState\"        \n",
       "[29] \"OriginState\"              \"AgeGroup\"                \n",
       "[31] \"LikhihoodGroup\"          "
      ]
     },
     "metadata": {},
     "output_type": "display_data"
    }
   ],
   "source": [
    "#Names of the columns\n",
    "colnames(df)"
   ]
  },
  {
   "cell_type": "code",
   "execution_count": 138,
   "metadata": {},
   "outputs": [],
   "source": [
    "#Converting all categorical data into factors\n",
    "df$TypeOfTravel <- as.factor(df$TypeOfTravel)\n",
    "df$PartnerCode <- as.factor(df$PartnerCode)\n",
    "df$AirlineStatus <- as.factor(df$AirlineStatus)\n",
    "df$AgeGroup <- as.factor(df$AgeGroup)\n",
    "df$PriceSensitivity <- as.factor(df$PriceSensitivity)\n",
    "df$Gender <- as.factor(df$Gender)\n",
    "\n",
    "df$TotalFreqFlyAccount <- as.factor(df$TotalFreqFlyAccount)"
   ]
  },
  {
   "cell_type": "code",
   "execution_count": 146,
   "metadata": {},
   "outputs": [],
   "source": [
    "df$OriginState <- as.factor(df$OriginState)\n",
    "df$DestinationState <- as.factor(df$DestinationState)"
   ]
  },
  {
   "cell_type": "code",
   "execution_count": 147,
   "metadata": {},
   "outputs": [],
   "source": [
    "#Splitting data into training and test set\n",
    "set.seed(123) \n",
    "split = sample.split(df$LikhihoodGroup, SplitRatio = 0.75) \n",
    "  \n",
    "training_set = subset(df, split == TRUE) \n",
    "test_set = subset(df, split == FALSE) "
   ]
  },
  {
   "cell_type": "code",
   "execution_count": 150,
   "metadata": {},
   "outputs": [],
   "source": [
    "classifier = ksvm(LikhihoodGroup ~ TypeOfTravel+AirlineStatus+AgeGroup+PartnerCode+\n",
    "                                  Gender+YearOfFirstFlight+PriceSensitivity+Loyalty+\n",
    "                                  OriginState+DestinationState+TotalFreqFlyAccount,\n",
    "                 type = 'C-svc', \n",
    "                 kernel = 'rbfdot',C=2,cross=2,\n",
    "                data=training_set) \n",
    "y_pred = predict(classifier, newdata = select(test_set,TypeOfTravel,AirlineStatus,\n",
    "                                              AgeGroup,PartnerCode,Gender,YearOfFirstFlight,\n",
    "                                              PriceSensitivity,Loyalty,OriginState,\n",
    "                                              DestinationState,TotalFreqFlyAccount)) \n",
    "cm = table(test_set[, 31], y_pred) "
   ]
  },
  {
   "cell_type": "code",
   "execution_count": 151,
   "metadata": {},
   "outputs": [
    {
     "data": {
      "text/plain": [
       "Confusion Matrix and Statistics\n",
       "\n",
       "            y_pred\n",
       "             Detractors Passives Promoters\n",
       "  Detractors        573       89       153\n",
       "  Passives          216      204       396\n",
       "  Promoters          31       99       806\n",
       "\n",
       "Overall Statistics\n",
       "                                          \n",
       "               Accuracy : 0.6167          \n",
       "                 95% CI : (0.5975, 0.6355)\n",
       "    No Information Rate : 0.5279          \n",
       "    P-Value [Acc > NIR] : < 2.2e-16       \n",
       "                                          \n",
       "                  Kappa : 0.4171          \n",
       "                                          \n",
       " Mcnemar's Test P-Value : < 2.2e-16       \n",
       "\n",
       "Statistics by Class:\n",
       "\n",
       "                     Class: Detractors Class: Passives Class: Promoters\n",
       "Sensitivity                     0.6988         0.52041           0.5948\n",
       "Specificity                     0.8615         0.71862           0.8927\n",
       "Pos Pred Value                  0.7031         0.25000           0.8611\n",
       "Neg Pred Value                  0.8590         0.89263           0.6634\n",
       "Prevalence                      0.3194         0.15271           0.5279\n",
       "Detection Rate                  0.2232         0.07947           0.3140\n",
       "Detection Prevalence            0.3175         0.31788           0.3646\n",
       "Balanced Accuracy               0.7801         0.61951           0.7438"
      ]
     },
     "metadata": {},
     "output_type": "display_data"
    }
   ],
   "source": [
    "confusionMatrix(cm)"
   ]
  },
  {
   "cell_type": "code",
   "execution_count": null,
   "metadata": {},
   "outputs": [],
   "source": []
  }
 ],
 "metadata": {
  "kernelspec": {
   "display_name": "R",
   "language": "R",
   "name": "ir"
  },
  "language_info": {
   "codemirror_mode": "r",
   "file_extension": ".r",
   "mimetype": "text/x-r-source",
   "name": "R",
   "pygments_lexer": "r",
   "version": "3.6.1"
  }
 },
 "nbformat": 4,
 "nbformat_minor": 2
}
